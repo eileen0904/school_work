{
 "cells": [
  {
   "cell_type": "code",
   "execution_count": 69,
   "metadata": {},
   "outputs": [
    {
     "name": "stderr",
     "output_type": "stream",
     "text": [
      "Incompatible release of chromedriver (version 83.0.4103.39) detected in PATH: /bin/chromedriver\n"
     ]
    },
    {
     "name": "stdout",
     "output_type": "stream",
     "text": [
      "Keelung City\n",
      "16 - 16\n",
      "Taipei City\n",
      "16 - 17\n",
      "New Taipei City\n",
      "17 - 17\n",
      "Taoyuan City\n",
      "17 - 17\n",
      "Hsinchu City\n",
      "17 - 17\n",
      "Hsinchu County\n",
      "17 - 17\n",
      "Miaoli County\n",
      "17 - 18\n",
      "Taichung City\n",
      "20 - 23\n",
      "Changhua County\n",
      "18 - 21\n",
      "Nantou County\n",
      "20 - 23\n",
      "Yunlin County\n",
      "20 - 22\n",
      "Chiayi City\n",
      "20 - 24\n",
      "Chiayi County\n",
      "20 - 23\n",
      "Tainan City\n",
      "22 - 25\n",
      "Kaohsiung City\n",
      "26 - 27\n",
      "Pingtung County\n",
      "26 - 29\n",
      "Yilan County\n",
      "17 - 18\n",
      "Hualien County\n",
      "19 - 21\n",
      "Taitung County\n",
      "21 - 25\n",
      "Penghu County\n",
      "19 - 20\n",
      "Kinmen County\n",
      "18 - 20\n",
      "Lienchiang County\n",
      "13 - 14\n"
     ]
    }
   ],
   "source": [
    "from bs4 import BeautifulSoup\n",
    "from selenium import webdriver\n",
    "from selenium.webdriver.common.by import By\n",
    "from selenium.webdriver.chrome.service import Service\n",
    "from selenium.webdriver.support.ui import Select\n",
    "import time\n",
    "\n",
    "driverPath = \"chromedriver.exe\"\n",
    "s = Service(executable_path=driverPath)\n",
    "\n",
    "browser = webdriver.Chrome(service=s)\n",
    "url = 'https://www.cwb.gov.tw/V8/E/W/County/County.html?CID=65'\n",
    "browser.get(url)\n",
    "\n",
    "citys = []\n",
    "temps = []\n",
    "wea_dropdown = Select(browser.find_element(By.ID, 'CID'))\n",
    "wea_dropdown_op = wea_dropdown.options\n",
    "\n",
    "for i in range (1, len(wea_dropdown_op)):\n",
    "    wea_dropdown_op[i].click()\n",
    "    citys.append(wea_dropdown_op[i].text)\n",
    "    time.sleep(0.5)\n",
    "    soup = BeautifulSoup(browser.page_source, \"html.parser\")\n",
    "    temp = soup.find(\"table\", {\"id\": \"PC_Week_MOD\"}).find_all(\"span\", class_=\"tem-C is-active\")[0].get_text()\n",
    "    temps.append(temp)\n",
    "\n",
    "browser.quit()\n",
    "city = input()\n",
    "\n",
    "for i in range (0, len(wea_dropdown_op) - 1):\n",
    "    if len(city) == len(citys[i]) and city in citys[i]:\n",
    "        print(citys[i])\n",
    "        print(temps[i])\n",
    "if city == \"all\":\n",
    "    for j in range (0, len(wea_dropdown_op) - 1):\n",
    "        print(citys[j])\n",
    "        print(temps[j])\n"
   ]
  }
 ],
 "metadata": {
  "kernelspec": {
   "display_name": "Python 3",
   "language": "python",
   "name": "python3"
  },
  "language_info": {
   "codemirror_mode": {
    "name": "ipython",
    "version": 3
   },
   "file_extension": ".py",
   "mimetype": "text/x-python",
   "name": "python",
   "nbconvert_exporter": "python",
   "pygments_lexer": "ipython3",
   "version": "3.10.6"
  },
  "orig_nbformat": 4
 },
 "nbformat": 4,
 "nbformat_minor": 2
}
