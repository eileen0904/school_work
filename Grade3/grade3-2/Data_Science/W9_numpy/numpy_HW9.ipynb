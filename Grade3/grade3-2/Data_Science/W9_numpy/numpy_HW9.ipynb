{
 "cells": [
  {
   "cell_type": "code",
   "execution_count": 5,
   "metadata": {},
   "outputs": [
    {
     "name": "stdout",
     "output_type": "stream",
     "text": [
      "[[ 65  70  85]\n",
      " [ 90 100  70]\n",
      " [ 70  50  20]]\n",
      "\n",
      "[[80 90 60]\n",
      " [30 95 60]\n",
      " [75 20 80]]\n",
      "\n",
      "[[82.5 80.  72.5]\n",
      " [70.  97.5 65. ]\n",
      " [82.5 -1.  -1. ]]\n"
     ]
    }
   ],
   "source": [
    "import numpy as np\n",
    "\n",
    "arr = []\n",
    "i = 0\n",
    "j = 0\n",
    "\n",
    "while j < 2:\n",
    "    while True:\n",
    "        a = int(input())\n",
    "        if a == -1:\n",
    "            break\n",
    "        arr.append(a)\n",
    "        i = i + 1\n",
    "    if j == 0:\n",
    "        exam1 = np.array(arr).reshape(int(i/3), 3)\n",
    "    else:\n",
    "        exam2 = np.array(arr).reshape(int(i/3), 3)\n",
    "    arr.clear()\n",
    "    i = 0\n",
    "    j = j + 1\n",
    "\n",
    "j = 0\n",
    "score_arr = np.zeros((exam1.shape[0],3))\n",
    "for i in range(0, exam1.shape[0]):\n",
    "    for j in range(0, exam1.shape[1]):\n",
    "        score = round((exam1[i][j] + exam2[i][j]) / 2, 2)\n",
    "        if j == 0:\n",
    "            score_arr[i][j] = score + 10\n",
    "        elif score < 60:\n",
    "            score_arr[i][j] = -1\n",
    "        else:\n",
    "            score_arr[i][j] = score\n",
    "\n",
    "print(exam1)\n",
    "print()\n",
    "print(exam2)\n",
    "print()\n",
    "print(score_arr)"
   ]
  }
 ],
 "metadata": {
  "kernelspec": {
   "display_name": "Python 3",
   "language": "python",
   "name": "python3"
  },
  "language_info": {
   "codemirror_mode": {
    "name": "ipython",
    "version": 3
   },
   "file_extension": ".py",
   "mimetype": "text/x-python",
   "name": "python",
   "nbconvert_exporter": "python",
   "pygments_lexer": "ipython3",
   "version": "3.10.6"
  },
  "orig_nbformat": 4,
  "vscode": {
   "interpreter": {
    "hash": "e7370f93d1d0cde622a1f8e1c04877d8463912d04d973331ad4851f04de6915a"
   }
  }
 },
 "nbformat": 4,
 "nbformat_minor": 2
}
