{
 "cells": [
  {
   "cell_type": "code",
   "execution_count": 60,
   "metadata": {},
   "outputs": [
    {
     "name": "stdout",
     "output_type": "stream",
     "text": [
      "42337.00254022016\n"
     ]
    }
   ],
   "source": [
    "import requests\n",
    "import re\n",
    "from bs4 import BeautifulSoup\n",
    "\n",
    "url = 'https://rate.bot.com.tw/xrt?Lang=en-US'\n",
    "\n",
    "html = requests.get(url)\n",
    "\n",
    "bs = BeautifulSoup(html.content, \"html.parser\")\n",
    "\n",
    "currencys = []\n",
    "cashs = []\n",
    "\n",
    "rows = bs.find('table', 'table').tbody.find_all('tr')\n",
    "\n",
    "for row in rows:\n",
    "    currency = row.find_all('td')[0].find_all('div', class_=\"visible-phone print_hide\")[0].get_text()\n",
    "    cash = row.find_all('td')[2].get_text()\n",
    "\n",
    "    currency = currency.strip('\\r\\n')\n",
    "    currency = currency.strip(' ')\n",
    "    currency = currency.strip('\\r\\n')\n",
    "\n",
    "    currencys.append(currency)\n",
    "    cashs.append(cash)\n",
    "\n",
    "user_curr = input()\n",
    "user_cash = input()\n",
    "\n",
    "for i in range(0, 19):\n",
    "    if user_curr in currencys[i]:\n",
    "        print(float(user_cash)/float(cashs[i]))"
   ]
  }
 ],
 "metadata": {
  "kernelspec": {
   "display_name": "Python 3",
   "language": "python",
   "name": "python3"
  },
  "language_info": {
   "codemirror_mode": {
    "name": "ipython",
    "version": 3
   },
   "file_extension": ".py",
   "mimetype": "text/x-python",
   "name": "python",
   "nbconvert_exporter": "python",
   "pygments_lexer": "ipython3",
   "version": "3.10.6"
  },
  "orig_nbformat": 4
 },
 "nbformat": 4,
 "nbformat_minor": 2
}
